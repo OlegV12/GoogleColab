{
  "nbformat": 4,
  "nbformat_minor": 0,
  "metadata": {
    "colab": {
      "name": "Lesson4.ipynb",
      "provenance": [],
      "collapsed_sections": [],
      "authorship_tag": "ABX9TyOwk/uifwVAWVcKAPlEW6Iw",
      "include_colab_link": true
    },
    "kernelspec": {
      "name": "python3",
      "display_name": "Python 3"
    }
  },
  "cells": [
    {
      "cell_type": "markdown",
      "metadata": {
        "id": "view-in-github",
        "colab_type": "text"
      },
      "source": [
        "<a href=\"https://colab.research.google.com/github/OlegV12/GoogleColab/blob/Lesson4/Lesson4.ipynb\" target=\"_parent\"><img src=\"https://colab.research.google.com/assets/colab-badge.svg\" alt=\"Open In Colab\"/></a>"
      ]
    },
    {
      "cell_type": "markdown",
      "metadata": {
        "id": "QL7iON0S6mc4"
      },
      "source": [
        "#Задание 1\n",
        "Импортируйте библиотеки pandas, numpy и matplotlib.\n",
        "Загрузите \"Boston House Prices dataset\" из встроенных наборов \n",
        "данных библиотеки sklearn.\n",
        "Создайте датафреймы X и y из этих данных.\n",
        "Разбейте эти датафреймы на тренировочные (X_train, y_train) и тестовые (X_test, y_test)\n",
        "с помощью функции train_test_split так, чтобы размер тестовой выборки\n",
        "составлял 20% от всех данных, при этом аргумент random_state должен быть равен 42.\n",
        "Масштабируйте данные с помощью StandardScaler.\n",
        "Постройте модель TSNE на тренировочный данных с параметрами:\n",
        "n_components=2, learning_rate=250, random_state=42.\n",
        "Постройте диаграмму рассеяния на этих данных.\n"
      ]
    },
    {
      "cell_type": "code",
      "metadata": {
        "id": "LCH-3X_B6fRB"
      },
      "source": [
        "import pandas as pd\n",
        "import numpy as np\n",
        "import sklearn as skl\n",
        "from sklearn.datasets import load_boston\n",
        "from sklearn.model_selection import train_test_split, KFold, GridSearchCV\n",
        "from sklearn.preprocessing import StandardScaler, MinMaxScaler\n",
        "from sklearn.manifold import TSNE\n",
        "import matplotlib.pyplot as plt\n",
        "from sklearn.cluster import KMeans\n",
        "from sklearn.ensemble import RandomForestRegressor, GradientBoostingRegressor\n",
        "from sklearn.metrics import mean_squared_error as mse, r2_score as r2\n",
        "import seaborn as sns"
      ],
      "execution_count": 353,
      "outputs": []
    },
    {
      "cell_type": "code",
      "metadata": {
        "id": "wISrGGmWkNn3"
      },
      "source": [
        "boston = load_boston()"
      ],
      "execution_count": 2,
      "outputs": []
    },
    {
      "cell_type": "code",
      "metadata": {
        "id": "Q4F029rClgHO"
      },
      "source": [
        "data = boston['data']\n",
        "feature_names = boston['feature_names']\n",
        "X = pd.DataFrame(data, columns=feature_names)\n",
        "target = boston['target']\n",
        "y = pd.DataFrame(target, columns=['price'])"
      ],
      "execution_count": 3,
      "outputs": []
    },
    {
      "cell_type": "code",
      "metadata": {
        "colab": {
          "base_uri": "https://localhost:8080/",
          "height": 204
        },
        "id": "xD8VjR4oZdaw",
        "outputId": "f394cee1-3652-4191-ccfd-69b074041793"
      },
      "source": [
        "X.head()"
      ],
      "execution_count": 4,
      "outputs": [
        {
          "output_type": "execute_result",
          "data": {
            "text/html": [
              "<div>\n",
              "<style scoped>\n",
              "    .dataframe tbody tr th:only-of-type {\n",
              "        vertical-align: middle;\n",
              "    }\n",
              "\n",
              "    .dataframe tbody tr th {\n",
              "        vertical-align: top;\n",
              "    }\n",
              "\n",
              "    .dataframe thead th {\n",
              "        text-align: right;\n",
              "    }\n",
              "</style>\n",
              "<table border=\"1\" class=\"dataframe\">\n",
              "  <thead>\n",
              "    <tr style=\"text-align: right;\">\n",
              "      <th></th>\n",
              "      <th>CRIM</th>\n",
              "      <th>ZN</th>\n",
              "      <th>INDUS</th>\n",
              "      <th>CHAS</th>\n",
              "      <th>NOX</th>\n",
              "      <th>RM</th>\n",
              "      <th>AGE</th>\n",
              "      <th>DIS</th>\n",
              "      <th>RAD</th>\n",
              "      <th>TAX</th>\n",
              "      <th>PTRATIO</th>\n",
              "      <th>B</th>\n",
              "      <th>LSTAT</th>\n",
              "    </tr>\n",
              "  </thead>\n",
              "  <tbody>\n",
              "    <tr>\n",
              "      <th>0</th>\n",
              "      <td>0.00632</td>\n",
              "      <td>18.0</td>\n",
              "      <td>2.31</td>\n",
              "      <td>0.0</td>\n",
              "      <td>0.538</td>\n",
              "      <td>6.575</td>\n",
              "      <td>65.2</td>\n",
              "      <td>4.0900</td>\n",
              "      <td>1.0</td>\n",
              "      <td>296.0</td>\n",
              "      <td>15.3</td>\n",
              "      <td>396.90</td>\n",
              "      <td>4.98</td>\n",
              "    </tr>\n",
              "    <tr>\n",
              "      <th>1</th>\n",
              "      <td>0.02731</td>\n",
              "      <td>0.0</td>\n",
              "      <td>7.07</td>\n",
              "      <td>0.0</td>\n",
              "      <td>0.469</td>\n",
              "      <td>6.421</td>\n",
              "      <td>78.9</td>\n",
              "      <td>4.9671</td>\n",
              "      <td>2.0</td>\n",
              "      <td>242.0</td>\n",
              "      <td>17.8</td>\n",
              "      <td>396.90</td>\n",
              "      <td>9.14</td>\n",
              "    </tr>\n",
              "    <tr>\n",
              "      <th>2</th>\n",
              "      <td>0.02729</td>\n",
              "      <td>0.0</td>\n",
              "      <td>7.07</td>\n",
              "      <td>0.0</td>\n",
              "      <td>0.469</td>\n",
              "      <td>7.185</td>\n",
              "      <td>61.1</td>\n",
              "      <td>4.9671</td>\n",
              "      <td>2.0</td>\n",
              "      <td>242.0</td>\n",
              "      <td>17.8</td>\n",
              "      <td>392.83</td>\n",
              "      <td>4.03</td>\n",
              "    </tr>\n",
              "    <tr>\n",
              "      <th>3</th>\n",
              "      <td>0.03237</td>\n",
              "      <td>0.0</td>\n",
              "      <td>2.18</td>\n",
              "      <td>0.0</td>\n",
              "      <td>0.458</td>\n",
              "      <td>6.998</td>\n",
              "      <td>45.8</td>\n",
              "      <td>6.0622</td>\n",
              "      <td>3.0</td>\n",
              "      <td>222.0</td>\n",
              "      <td>18.7</td>\n",
              "      <td>394.63</td>\n",
              "      <td>2.94</td>\n",
              "    </tr>\n",
              "    <tr>\n",
              "      <th>4</th>\n",
              "      <td>0.06905</td>\n",
              "      <td>0.0</td>\n",
              "      <td>2.18</td>\n",
              "      <td>0.0</td>\n",
              "      <td>0.458</td>\n",
              "      <td>7.147</td>\n",
              "      <td>54.2</td>\n",
              "      <td>6.0622</td>\n",
              "      <td>3.0</td>\n",
              "      <td>222.0</td>\n",
              "      <td>18.7</td>\n",
              "      <td>396.90</td>\n",
              "      <td>5.33</td>\n",
              "    </tr>\n",
              "  </tbody>\n",
              "</table>\n",
              "</div>"
            ],
            "text/plain": [
              "      CRIM    ZN  INDUS  CHAS    NOX  ...  RAD    TAX  PTRATIO       B  LSTAT\n",
              "0  0.00632  18.0   2.31   0.0  0.538  ...  1.0  296.0     15.3  396.90   4.98\n",
              "1  0.02731   0.0   7.07   0.0  0.469  ...  2.0  242.0     17.8  396.90   9.14\n",
              "2  0.02729   0.0   7.07   0.0  0.469  ...  2.0  242.0     17.8  392.83   4.03\n",
              "3  0.03237   0.0   2.18   0.0  0.458  ...  3.0  222.0     18.7  394.63   2.94\n",
              "4  0.06905   0.0   2.18   0.0  0.458  ...  3.0  222.0     18.7  396.90   5.33\n",
              "\n",
              "[5 rows x 13 columns]"
            ]
          },
          "metadata": {
            "tags": []
          },
          "execution_count": 4
        }
      ]
    },
    {
      "cell_type": "code",
      "metadata": {
        "id": "LEc6VOaMobYY"
      },
      "source": [
        "X_train, X_test, y_train, y_test = train_test_split(X, y, test_size=0.20, random_state=42)"
      ],
      "execution_count": 5,
      "outputs": []
    },
    {
      "cell_type": "code",
      "metadata": {
        "id": "4COvQl0opi5D",
        "colab": {
          "base_uri": "https://localhost:8080/",
          "height": 204
        },
        "outputId": "c62c23e7-ebb5-4077-9f3c-304c3d45b537"
      },
      "source": [
        "scaler = StandardScaler()\n",
        "\n",
        "X_train_scaled = pd.DataFrame(scaler.fit_transform(X_train), columns=X_train.columns)\n",
        "X_test_scaled = pd.DataFrame(scaler.transform(X_test), columns=X_test.columns)\n",
        "X_train_scaled.head()"
      ],
      "execution_count": 6,
      "outputs": [
        {
          "output_type": "execute_result",
          "data": {
            "text/html": [
              "<div>\n",
              "<style scoped>\n",
              "    .dataframe tbody tr th:only-of-type {\n",
              "        vertical-align: middle;\n",
              "    }\n",
              "\n",
              "    .dataframe tbody tr th {\n",
              "        vertical-align: top;\n",
              "    }\n",
              "\n",
              "    .dataframe thead th {\n",
              "        text-align: right;\n",
              "    }\n",
              "</style>\n",
              "<table border=\"1\" class=\"dataframe\">\n",
              "  <thead>\n",
              "    <tr style=\"text-align: right;\">\n",
              "      <th></th>\n",
              "      <th>CRIM</th>\n",
              "      <th>ZN</th>\n",
              "      <th>INDUS</th>\n",
              "      <th>CHAS</th>\n",
              "      <th>NOX</th>\n",
              "      <th>RM</th>\n",
              "      <th>AGE</th>\n",
              "      <th>DIS</th>\n",
              "      <th>RAD</th>\n",
              "      <th>TAX</th>\n",
              "      <th>PTRATIO</th>\n",
              "      <th>B</th>\n",
              "      <th>LSTAT</th>\n",
              "    </tr>\n",
              "  </thead>\n",
              "  <tbody>\n",
              "    <tr>\n",
              "      <th>0</th>\n",
              "      <td>1.287702</td>\n",
              "      <td>-0.500320</td>\n",
              "      <td>1.033237</td>\n",
              "      <td>-0.278089</td>\n",
              "      <td>0.489252</td>\n",
              "      <td>-1.428069</td>\n",
              "      <td>1.028015</td>\n",
              "      <td>-0.802173</td>\n",
              "      <td>1.706891</td>\n",
              "      <td>1.578434</td>\n",
              "      <td>0.845343</td>\n",
              "      <td>-0.074337</td>\n",
              "      <td>1.753505</td>\n",
              "    </tr>\n",
              "    <tr>\n",
              "      <th>1</th>\n",
              "      <td>-0.336384</td>\n",
              "      <td>-0.500320</td>\n",
              "      <td>-0.413160</td>\n",
              "      <td>-0.278089</td>\n",
              "      <td>-0.157233</td>\n",
              "      <td>-0.680087</td>\n",
              "      <td>-0.431199</td>\n",
              "      <td>0.324349</td>\n",
              "      <td>-0.624360</td>\n",
              "      <td>-0.584648</td>\n",
              "      <td>1.204741</td>\n",
              "      <td>0.430184</td>\n",
              "      <td>-0.561474</td>\n",
              "    </tr>\n",
              "    <tr>\n",
              "      <th>2</th>\n",
              "      <td>-0.403253</td>\n",
              "      <td>1.013271</td>\n",
              "      <td>-0.715218</td>\n",
              "      <td>-0.278089</td>\n",
              "      <td>-1.008723</td>\n",
              "      <td>-0.402063</td>\n",
              "      <td>-1.618599</td>\n",
              "      <td>1.330697</td>\n",
              "      <td>-0.974048</td>\n",
              "      <td>-0.602724</td>\n",
              "      <td>-0.637176</td>\n",
              "      <td>0.065297</td>\n",
              "      <td>-0.651595</td>\n",
              "    </tr>\n",
              "    <tr>\n",
              "      <th>3</th>\n",
              "      <td>0.388230</td>\n",
              "      <td>-0.500320</td>\n",
              "      <td>1.033237</td>\n",
              "      <td>-0.278089</td>\n",
              "      <td>0.489252</td>\n",
              "      <td>-0.300450</td>\n",
              "      <td>0.591681</td>\n",
              "      <td>-0.839240</td>\n",
              "      <td>1.706891</td>\n",
              "      <td>1.578434</td>\n",
              "      <td>0.845343</td>\n",
              "      <td>-3.868193</td>\n",
              "      <td>1.525387</td>\n",
              "    </tr>\n",
              "    <tr>\n",
              "      <th>4</th>\n",
              "      <td>-0.325282</td>\n",
              "      <td>-0.500320</td>\n",
              "      <td>-0.413160</td>\n",
              "      <td>-0.278089</td>\n",
              "      <td>-0.157233</td>\n",
              "      <td>-0.831094</td>\n",
              "      <td>0.033747</td>\n",
              "      <td>-0.005494</td>\n",
              "      <td>-0.624360</td>\n",
              "      <td>-0.584648</td>\n",
              "      <td>1.204741</td>\n",
              "      <td>0.379119</td>\n",
              "      <td>-0.165787</td>\n",
              "    </tr>\n",
              "  </tbody>\n",
              "</table>\n",
              "</div>"
            ],
            "text/plain": [
              "       CRIM        ZN     INDUS  ...   PTRATIO         B     LSTAT\n",
              "0  1.287702 -0.500320  1.033237  ...  0.845343 -0.074337  1.753505\n",
              "1 -0.336384 -0.500320 -0.413160  ...  1.204741  0.430184 -0.561474\n",
              "2 -0.403253  1.013271 -0.715218  ... -0.637176  0.065297 -0.651595\n",
              "3  0.388230 -0.500320  1.033237  ...  0.845343 -3.868193  1.525387\n",
              "4 -0.325282 -0.500320 -0.413160  ...  1.204741  0.379119 -0.165787\n",
              "\n",
              "[5 rows x 13 columns]"
            ]
          },
          "metadata": {
            "tags": []
          },
          "execution_count": 6
        }
      ]
    },
    {
      "cell_type": "code",
      "metadata": {
        "id": "HWt-_P61ONfo",
        "colab": {
          "base_uri": "https://localhost:8080/"
        },
        "outputId": "99b1bf17-c6c3-4af3-d5b8-794e2e5a0186"
      },
      "source": [
        "tsne = TSNE(n_components=2, learning_rate=250, random_state=42)\n",
        "\n",
        "X_train_tsne = tsne.fit_transform(X_train_scaled)\n",
        "X_train_tsne.shape"
      ],
      "execution_count": 7,
      "outputs": [
        {
          "output_type": "execute_result",
          "data": {
            "text/plain": [
              "(404, 2)"
            ]
          },
          "metadata": {
            "tags": []
          },
          "execution_count": 7
        }
      ]
    },
    {
      "cell_type": "code",
      "metadata": {
        "id": "RIGICrkHONfo",
        "colab": {
          "base_uri": "https://localhost:8080/",
          "height": 265
        },
        "outputId": "a8e7554e-5f91-4c78-e125-7686bab201ba"
      },
      "source": [
        "plt.scatter(X_train_tsne[:, 0], X_train_tsne[:, 1])\n",
        "\n",
        "plt.show()"
      ],
      "execution_count": 8,
      "outputs": [
        {
          "output_type": "display_data",
          "data": {
            "image/png": "[encoded data removed]",
            "text/plain": [
              "<Figure size 432x288 with 1 Axes>"
            ]
          },
          "metadata": {
            "tags": [],
            "needs_background": "light"
          }
        }
      ]
    },
    {
      "cell_type": "markdown",
      "metadata": {
        "id": "ydCMxLbclhb4"
      },
      "source": [
        "#Задание 2\n",
        "С помощью KMeans разбейте данные из тренировочного набора на 3 кластера,\n",
        "используйте все признаки из датафрейма X_train.\n",
        "Параметр max_iter должен быть равен 100, random_state сделайте равным 42.\n",
        "Постройте еще раз диаграмму рассеяния на данных, полученных с помощью TSNE,\n",
        "и раскрасьте точки из разных кластеров разными цветами.\n",
        "Вычислите средние значения price и CRIM в разных кластерах.\n"
      ]
    },
    {
      "cell_type": "code",
      "metadata": {
        "id": "Gr220UIqrD8S"
      },
      "source": [
        "model = KMeans(n_clusters=3, random_state=42, max_iter=100)\n",
        "clusters = model.fit_predict(X_train)\n",
        "\n"
      ],
      "execution_count": 9,
      "outputs": []
    },
    {
      "cell_type": "code",
      "metadata": {
        "colab": {
          "base_uri": "https://localhost:8080/",
          "height": 265
        },
        "id": "7DnBN9uJljhn",
        "outputId": "42982340-df38-4b15-c44b-99de5bc526f3"
      },
      "source": [
        "plt.scatter(X_train_tsne[:, 0], X_train_tsne[:, 1], c=clusters)\n",
        "\n",
        "plt.show()"
      ],
      "execution_count": 10,
      "outputs": [
        {
          "output_type": "display_data",
          "data": {
            "image/png": "[encoded data removed]",
            "text/plain": [
              "<Figure size 432x288 with 1 Axes>"
            ]
          },
          "metadata": {
            "tags": [],
            "needs_background": "light"
          }
        }
      ]
    },
    {
      "cell_type": "code",
      "metadata": {
        "colab": {
          "base_uri": "https://localhost:8080/"
        },
        "id": "ocSaP7EY__Hb",
        "outputId": "c97d6fdc-1877-4e4a-9a2b-a7d4f73754c5"
      },
      "source": [
        "print(f'среднее значение признака CRIM в кластере 0 = {X_train[\"CRIM\"][clusters == 0].mean()}')\n",
        "print(f'среднее значение признака CRIM в кластере 1 = {X_train[\"CRIM\"][clusters == 1].mean()}')\n",
        "print(f'среднее значение признака CRIM в кластере 2 = {X_train[\"CRIM\"][clusters == 2].mean()}')\n"
      ],
      "execution_count": 11,
      "outputs": [
        {
          "output_type": "stream",
          "text": [
            "среднее значение признака CRIM в кластере 0 = 0.40486282828282844\n",
            "среднее значение признака CRIM в кластере 1 = 14.360380322580648\n",
            "среднее значение признака CRIM в кластере 2 = 11.745661842105266\n"
          ],
          "name": "stdout"
        }
      ]
    },
    {
      "cell_type": "code",
      "metadata": {
        "colab": {
          "base_uri": "https://localhost:8080/"
        },
        "id": "4XcEjG_IFZuc",
        "outputId": "9675c5e5-81e1-4ee0-9e42-074287dd88de"
      },
      "source": [
        "print(f'среднее значение признака price в кластере 0 = {y_train[\"price\"][clusters == 0].mean()}')\n",
        "print(f'среднее значение признака price в кластере 1 = {y_train[\"price\"][clusters == 1].mean()}')\n",
        "print(f'среднее значение признака price в кластере 2 = {y_train[\"price\"][clusters == 2].mean()}')"
      ],
      "execution_count": 12,
      "outputs": [
        {
          "output_type": "stream",
          "text": [
            "среднее значение признака price в кластере 0 = 25.168686868686873\n",
            "среднее значение признака price в кластере 1 = 13.196774193548386\n",
            "среднее значение признака price в кластере 2 = 17.4421052631579\n"
          ],
          "name": "stdout"
        }
      ]
    },
    {
      "cell_type": "markdown",
      "metadata": {
        "id": "XWMFN4O5H0E2"
      },
      "source": [
        "#*Задание 3\n",
        "Примените модель KMeans, построенную в предыдущем задании,\n",
        "к данным из тестового набора.\n",
        "Вычислите средние значения price и CRIM в разных кластерах на тестовых данных.\n"
      ]
    },
    {
      "cell_type": "code",
      "metadata": {
        "id": "I-CYVv2ZH2sW"
      },
      "source": [
        "clusters_test = model.predict(X_test)\n"
      ],
      "execution_count": 13,
      "outputs": []
    },
    {
      "cell_type": "code",
      "metadata": {
        "colab": {
          "base_uri": "https://localhost:8080/"
        },
        "id": "7qdhVrt4IGk8",
        "outputId": "6488fe11-5112-43fb-f900-150a51b4f50b"
      },
      "source": [
        "print(f'среднее значение признака CRIM в кластере 0 = {X_test[\"CRIM\"][clusters_test == 0].mean()}')\n",
        "print(f'среднее значение признака CRIM в кластере 1 = {X_test[\"CRIM\"][clusters_test == 1].mean()}')\n",
        "print(f'среднее значение признака CRIM в кластере 2 = {X_test[\"CRIM\"][clusters_test == 2].mean()}')"
      ],
      "execution_count": 14,
      "outputs": [
        {
          "output_type": "stream",
          "text": [
            "среднее значение признака CRIM в кластере 0 = 0.2464211594202899\n",
            "среднее значение признака CRIM в кластере 1 = 19.021665714285714\n",
            "среднее значение признака CRIM в кластере 2 = 8.469301923076923\n"
          ],
          "name": "stdout"
        }
      ]
    },
    {
      "cell_type": "code",
      "metadata": {
        "colab": {
          "base_uri": "https://localhost:8080/"
        },
        "id": "IVOPJ6iKIHpf",
        "outputId": "124864d4-ea37-4ccf-a169-b6fdb54fd043"
      },
      "source": [
        "print(f'среднее значение признака price в кластере 0 = {y_test[\"price\"][clusters_test == 0].mean()}')\n",
        "print(f'среднее значение признака price в кластере 1 = {y_test[\"price\"][clusters_test == 1].mean()}')\n",
        "print(f'среднее значение признака price в кластере 2 = {y_test[\"price\"][clusters_test == 2].mean()}')"
      ],
      "execution_count": 15,
      "outputs": [
        {
          "output_type": "stream",
          "text": [
            "среднее значение признака price в кластере 0 = 23.911594202898552\n",
            "среднее значение признака price в кластере 1 = 12.814285714285713\n",
            "среднее значение признака price в кластере 2 = 17.39230769230769\n"
          ],
          "name": "stdout"
        }
      ]
    },
    {
      "cell_type": "markdown",
      "metadata": {
        "id": "shsKf09jN7Wl"
      },
      "source": [
        "#Дополнительное задание для работы с курсовым проектом:\n",
        "\n",
        "\n",
        "Примените модель понижения размерности к вашим данным, визуализируйте их.\n",
        "\n",
        "Сделайте кластеризацию на тренировочном наборе данных. Добавьте новый признак в тренировочный и валидационный наборы данных - метка кластера. Сравнить качество работы модели без метки кластера и с ней по валидационной выборке."
      ]
    },
    {
      "cell_type": "code",
      "metadata": {
        "colab": {
          "base_uri": "https://localhost:8080/"
        },
        "id": "uCN7VDE_N-xZ",
        "outputId": "d99e7976-89df-4ccb-9e99-2213af9a8a63"
      },
      "source": [
        "from google.colab import drive\n",
        "drive.mount('/gdrive')\n",
        "%cd /gdrive\\"
      ],
      "execution_count": 87,
      "outputs": [
        {
          "output_type": "stream",
          "text": [
            "Drive already mounted at /gdrive; to attempt to forcibly remount, call drive.mount(\"/gdrive\", force_remount=True).\n",
            "/gdrive\n"
          ],
          "name": "stdout"
        }
      ]
    },
    {
      "cell_type": "code",
      "metadata": {
        "id": "6i997Qsn5ck8"
      },
      "source": [
        "df = pd.read_csv('/gdrive/MyDrive/Colab Notebooks/Lesson1/train.csv')"
      ],
      "execution_count": 647,
      "outputs": []
    },
    {
      "cell_type": "code",
      "metadata": {
        "id": "D1sLaPwV5KB8",
        "colab": {
          "base_uri": "https://localhost:8080/",
          "height": 204
        },
        "outputId": "c950c4cf-d96a-4115-d18c-5515f937b7c6"
      },
      "source": [
        "df.head()"
      ],
      "execution_count": 648,
      "outputs": [
        {
          "output_type": "execute_result",
          "data": {
            "text/html": [
              "<div>\n",
              "<style scoped>\n",
              "    .dataframe tbody tr th:only-of-type {\n",
              "        vertical-align: middle;\n",
              "    }\n",
              "\n",
              "    .dataframe tbody tr th {\n",
              "        vertical-align: top;\n",
              "    }\n",
              "\n",
              "    .dataframe thead th {\n",
              "        text-align: right;\n",
              "    }\n",
              "</style>\n",
              "<table border=\"1\" class=\"dataframe\">\n",
              "  <thead>\n",
              "    <tr style=\"text-align: right;\">\n",
              "      <th></th>\n",
              "      <th>Id</th>\n",
              "      <th>DistrictId</th>\n",
              "      <th>Rooms</th>\n",
              "      <th>Square</th>\n",
              "      <th>LifeSquare</th>\n",
              "      <th>KitchenSquare</th>\n",
              "      <th>Floor</th>\n",
              "      <th>HouseFloor</th>\n",
              "      <th>HouseYear</th>\n",
              "      <th>Ecology_1</th>\n",
              "      <th>Ecology_2</th>\n",
              "      <th>Ecology_3</th>\n",
              "      <th>Social_1</th>\n",
              "      <th>Social_2</th>\n",
              "      <th>Social_3</th>\n",
              "      <th>Healthcare_1</th>\n",
              "      <th>Helthcare_2</th>\n",
              "      <th>Shops_1</th>\n",
              "      <th>Shops_2</th>\n",
              "      <th>Price</th>\n",
              "    </tr>\n",
              "  </thead>\n",
              "  <tbody>\n",
              "    <tr>\n",
              "      <th>0</th>\n",
              "      <td>11809</td>\n",
              "      <td>27</td>\n",
              "      <td>3.0</td>\n",
              "      <td>115.027311</td>\n",
              "      <td>NaN</td>\n",
              "      <td>10.0</td>\n",
              "      <td>4</td>\n",
              "      <td>10.0</td>\n",
              "      <td>2014</td>\n",
              "      <td>0.075424</td>\n",
              "      <td>B</td>\n",
              "      <td>B</td>\n",
              "      <td>11</td>\n",
              "      <td>3097</td>\n",
              "      <td>0</td>\n",
              "      <td>NaN</td>\n",
              "      <td>0</td>\n",
              "      <td>0</td>\n",
              "      <td>B</td>\n",
              "      <td>305018.871089</td>\n",
              "    </tr>\n",
              "    <tr>\n",
              "      <th>1</th>\n",
              "      <td>3013</td>\n",
              "      <td>22</td>\n",
              "      <td>1.0</td>\n",
              "      <td>39.832524</td>\n",
              "      <td>23.169223</td>\n",
              "      <td>8.0</td>\n",
              "      <td>7</td>\n",
              "      <td>8.0</td>\n",
              "      <td>1966</td>\n",
              "      <td>0.118537</td>\n",
              "      <td>B</td>\n",
              "      <td>B</td>\n",
              "      <td>30</td>\n",
              "      <td>6207</td>\n",
              "      <td>1</td>\n",
              "      <td>1183.0</td>\n",
              "      <td>1</td>\n",
              "      <td>0</td>\n",
              "      <td>B</td>\n",
              "      <td>177734.553407</td>\n",
              "    </tr>\n",
              "    <tr>\n",
              "      <th>2</th>\n",
              "      <td>8215</td>\n",
              "      <td>1</td>\n",
              "      <td>3.0</td>\n",
              "      <td>78.342215</td>\n",
              "      <td>47.671972</td>\n",
              "      <td>10.0</td>\n",
              "      <td>2</td>\n",
              "      <td>17.0</td>\n",
              "      <td>1988</td>\n",
              "      <td>0.025609</td>\n",
              "      <td>B</td>\n",
              "      <td>B</td>\n",
              "      <td>33</td>\n",
              "      <td>5261</td>\n",
              "      <td>0</td>\n",
              "      <td>240.0</td>\n",
              "      <td>3</td>\n",
              "      <td>1</td>\n",
              "      <td>B</td>\n",
              "      <td>282078.720850</td>\n",
              "    </tr>\n",
              "    <tr>\n",
              "      <th>3</th>\n",
              "      <td>2352</td>\n",
              "      <td>1</td>\n",
              "      <td>1.0</td>\n",
              "      <td>40.409907</td>\n",
              "      <td>NaN</td>\n",
              "      <td>1.0</td>\n",
              "      <td>10</td>\n",
              "      <td>22.0</td>\n",
              "      <td>1977</td>\n",
              "      <td>0.007122</td>\n",
              "      <td>B</td>\n",
              "      <td>B</td>\n",
              "      <td>1</td>\n",
              "      <td>264</td>\n",
              "      <td>0</td>\n",
              "      <td>NaN</td>\n",
              "      <td>0</td>\n",
              "      <td>1</td>\n",
              "      <td>B</td>\n",
              "      <td>168106.007630</td>\n",
              "    </tr>\n",
              "    <tr>\n",
              "      <th>4</th>\n",
              "      <td>13866</td>\n",
              "      <td>94</td>\n",
              "      <td>2.0</td>\n",
              "      <td>64.285067</td>\n",
              "      <td>38.562517</td>\n",
              "      <td>9.0</td>\n",
              "      <td>16</td>\n",
              "      <td>16.0</td>\n",
              "      <td>1972</td>\n",
              "      <td>0.282798</td>\n",
              "      <td>B</td>\n",
              "      <td>B</td>\n",
              "      <td>33</td>\n",
              "      <td>8667</td>\n",
              "      <td>2</td>\n",
              "      <td>NaN</td>\n",
              "      <td>0</td>\n",
              "      <td>6</td>\n",
              "      <td>B</td>\n",
              "      <td>343995.102962</td>\n",
              "    </tr>\n",
              "  </tbody>\n",
              "</table>\n",
              "</div>"
            ],
            "text/plain": [
              "      Id  DistrictId  Rooms  ...  Shops_1  Shops_2          Price\n",
              "0  11809          27    3.0  ...        0        B  305018.871089\n",
              "1   3013          22    1.0  ...        0        B  177734.553407\n",
              "2   8215           1    3.0  ...        1        B  282078.720850\n",
              "3   2352           1    1.0  ...        1        B  168106.007630\n",
              "4  13866          94    2.0  ...        6        B  343995.102962\n",
              "\n",
              "[5 rows x 20 columns]"
            ]
          },
          "metadata": {
            "tags": []
          },
          "execution_count": 648
        }
      ]
    },
    {
      "cell_type": "code",
      "metadata": {
        "id": "IOQvK3_aPbiV"
      },
      "source": [
        "ls_median = df['LifeSquare'].median()\n",
        "df['LifeSquare'].fillna(ls_median, inplace=True)\n",
        "\n",
        "health1_median = df['Healthcare_1'].median()\n",
        "df['Healthcare_1'].fillna(health1_median, inplace=True)"
      ],
      "execution_count": 649,
      "outputs": []
    },
    {
      "cell_type": "code",
      "metadata": {
        "id": "ulDDKDI9P7TQ"
      },
      "source": [
        "df.replace({'Ecology_2': {'A': 1, 'B': 2}}, inplace=True)\n",
        "df.replace({'Ecology_3': {'A': 1, 'B': 2}}, inplace=True)\n",
        "df.replace({'Shops_2': {'A': 1, 'B': 2}}, inplace=True)"
      ],
      "execution_count": 650,
      "outputs": []
    },
    {
      "cell_type": "code",
      "metadata": {
        "id": "9uJOaP5zQLU0"
      },
      "source": [
        "df.drop('Id', axis=1, inplace=True)"
      ],
      "execution_count": 651,
      "outputs": []
    },
    {
      "cell_type": "code",
      "metadata": {
        "id": "lm9tYzuJWRPg"
      },
      "source": [
        "index_rows = df.query('(Rooms == 0) | (Square < 10) | (LifeSquare > 640) | (LifeSquare == 0) | (KitchenSquare <= 3) | (KitchenSquare > 130) | (HouseFloor <= 0)| (HouseFloor > 50) | HouseYear > 2021').index"
      ],
      "execution_count": 652,
      "outputs": []
    },
    {
      "cell_type": "code",
      "metadata": {
        "id": "IW1U9DN7WGdZ"
      },
      "source": [
        "df.drop(index_rows, axis=0, inplace=True)"
      ],
      "execution_count": 653,
      "outputs": []
    },
    {
      "cell_type": "code",
      "metadata": {
        "id": "EvOkwOvfQsZb"
      },
      "source": [
        "y = pd.DataFrame(data=df['Price'])\n",
        "df.drop('Price', axis=1, inplace=True)"
      ],
      "execution_count": 654,
      "outputs": []
    },
    {
      "cell_type": "code",
      "metadata": {
        "id": "EygTyhf7jhWv"
      },
      "source": [
        "scaler = MinMaxScaler()"
      ],
      "execution_count": 639,
      "outputs": []
    },
    {
      "cell_type": "code",
      "metadata": {
        "id": "PJDHwGg4fnik"
      },
      "source": [
        "df_scaled = pd.DataFrame(scaler.fit_transform(df), columns=df.columns)"
      ],
      "execution_count": 640,
      "outputs": []
    },
    {
      "cell_type": "code",
      "metadata": {
        "id": "RIYFenofRDwL"
      },
      "source": [
        "X_train, X_test, y_train, y_test = train_test_split(df_scaled, y, test_size=0.3, random_state=42)"
      ],
      "execution_count": 641,
      "outputs": []
    },
    {
      "cell_type": "code",
      "metadata": {
        "colab": {
          "base_uri": "https://localhost:8080/"
        },
        "id": "NxnOc8jGPb2j",
        "outputId": "fad109c6-e9c1-4010-f4a1-72d9e70f3a15"
      },
      "source": [
        "X_train_tsne = tsne.fit_transform(X_train)\n",
        "X_train_tsne.shape"
      ],
      "execution_count": 610,
      "outputs": [
        {
          "output_type": "execute_result",
          "data": {
            "text/plain": [
              "(4760, 2)"
            ]
          },
          "metadata": {
            "tags": []
          },
          "execution_count": 610
        }
      ]
    },
    {
      "cell_type": "code",
      "metadata": {
        "colab": {
          "base_uri": "https://localhost:8080/",
          "height": 265
        },
        "id": "tXfnprgYPb2k",
        "outputId": "5245b129-f769-43fe-8fca-ed17a44db20a"
      },
      "source": [
        "plt.scatter(X_train_tsne[:, 0], X_train_tsne[:, 1])\n",
        "\n",
        "plt.show()"
      ],
      "execution_count": 611,
      "outputs": [
        {
          "output_type": "display_data",
          "data": {
            "image/png": "[encoded data removed]",
            "text/plain": [
              "<Figure size 432x288 with 1 Axes>"
            ]
          },
          "metadata": {
            "tags": [],
            "needs_background": "light"
          }
        }
      ]
    },
    {
      "cell_type": "code",
      "metadata": {
        "colab": {
          "base_uri": "https://localhost:8080/",
          "height": 281
        },
        "id": "PHQwwFwgS8ih",
        "outputId": "03e70ea2-fbbe-42ab-b28f-94c4690ae13b"
      },
      "source": [
        "inertias = []\n",
        "\n",
        "for i in range(2, 30):\n",
        "    temp_model = KMeans(n_clusters=i, random_state=100)\n",
        "    temp_model.fit(X_train_scaled)\n",
        "    \n",
        "    temp_inertia = temp_model.inertia_\n",
        "    \n",
        "    inertias.append(temp_inertia)\n",
        "\n",
        "plt.plot(range(2, 30), inertias)\n",
        "\n",
        "plt.title('Inertia')\n",
        "\n",
        "plt.show()"
      ],
      "execution_count": 422,
      "outputs": [
        {
          "output_type": "display_data",
          "data": {
            "image/png": "[encoded data removed]",
            "text/plain": [
              "<Figure size 432x288 with 1 Axes>"
            ]
          },
          "metadata": {
            "tags": [],
            "needs_background": "light"
          }
        }
      ]
    },
    {
      "cell_type": "code",
      "metadata": {
        "id": "tglN72CVT1PN"
      },
      "source": [
        "cluster_model = KMeans(n_clusters=10, random_state=42, max_iter=200)"
      ],
      "execution_count": 612,
      "outputs": []
    },
    {
      "cell_type": "code",
      "metadata": {
        "id": "EmJT1hVAUEcP"
      },
      "source": [
        "clusters = cluster_model.fit_predict(X_train)\n",
        "clusters_test = cluster_model.predict(X_test)"
      ],
      "execution_count": 613,
      "outputs": []
    },
    {
      "cell_type": "code",
      "metadata": {
        "colab": {
          "base_uri": "https://localhost:8080/",
          "height": 265
        },
        "id": "X-OpIAtoUJ82",
        "outputId": "0669d64d-2971-4291-d521-8d327bfe7c6c"
      },
      "source": [
        "plt.scatter(X_train_tsne[:, 0], X_train_tsne[:, 1], c=clusters)\n",
        "\n",
        "plt.show()\n"
      ],
      "execution_count": 614,
      "outputs": [
        {
          "output_type": "display_data",
          "data": {
            "image/png": "[encoded data removed]",
            "text/plain": [
              "<Figure size 432x288 with 1 Axes>"
            ]
          },
          "metadata": {
            "tags": [],
            "needs_background": "light"
          }
        }
      ]
    },
    {
      "cell_type": "code",
      "metadata": {
        "id": "waLnY1CIDE-W",
        "colab": {
          "base_uri": "https://localhost:8080/"
        },
        "outputId": "abfc8b00-058d-496b-ef1b-cb3ed0fe2116"
      },
      "source": [
        "gb_model = GradientBoostingRegressor(criterion='mse',\n",
        "                                     max_depth=5,\n",
        "                                     min_samples_leaf=45,\n",
        "                                     random_state=42,  \n",
        "                                     n_estimators=125)\n",
        "gb_model.fit(X_train, y_train)\n",
        "\n",
        "y_train_preds = gb_model.predict(X_train)\n",
        "y_test_preds = gb_model.predict(X_test)\n",
        "print(r2(y_train, y_train_preds))\n",
        "print(r2(y_test, y_test_preds))\n"
      ],
      "execution_count": 615,
      "outputs": [
        {
          "output_type": "stream",
          "text": [
            "/usr/local/lib/python3.7/dist-packages/sklearn/ensemble/_gb.py:1454: DataConversionWarning: A column-vector y was passed when a 1d array was expected. Please change the shape of y to (n_samples, ), for example using ravel().\n",
            "  y = column_or_1d(y, warn=True)\n"
          ],
          "name": "stderr"
        },
        {
          "output_type": "stream",
          "text": [
            "0.8022770972537393\n",
            "0.6741145869293024\n"
          ],
          "name": "stdout"
        }
      ]
    },
    {
      "cell_type": "code",
      "metadata": {
        "id": "REyg4_hg4tgF"
      },
      "source": [
        "df_scaled['Cluster'] = 0\n",
        "df_scaled.loc[clusters, 'Cluster'] = clusters\n",
        "df_scaled.loc[clusters_test, 'Cluster'] = clusters_test\n",
        "\n"
      ],
      "execution_count": 656,
      "outputs": []
    },
    {
      "cell_type": "code",
      "metadata": {
        "colab": {
          "base_uri": "https://localhost:8080/"
        },
        "id": "fbqaiu_I7zy1",
        "outputId": "e1431046-9ec2-4259-ddaf-026e5b3bdb37"
      },
      "source": [
        "df_scaled.info()"
      ],
      "execution_count": 657,
      "outputs": [
        {
          "output_type": "stream",
          "text": [
            "<class 'pandas.core.frame.DataFrame'>\n",
            "RangeIndex: 6800 entries, 0 to 6799\n",
            "Data columns (total 19 columns):\n",
            " #   Column         Non-Null Count  Dtype  \n",
            "---  ------         --------------  -----  \n",
            " 0   DistrictId     6800 non-null   float64\n",
            " 1   Rooms          6800 non-null   float64\n",
            " 2   Square         6800 non-null   float64\n",
            " 3   LifeSquare     6800 non-null   float64\n",
            " 4   KitchenSquare  6800 non-null   float64\n",
            " 5   Floor          6800 non-null   float64\n",
            " 6   HouseFloor     6800 non-null   float64\n",
            " 7   HouseYear      6800 non-null   float64\n",
            " 8   Ecology_1      6800 non-null   float64\n",
            " 9   Ecology_2      6800 non-null   float64\n",
            " 10  Ecology_3      6800 non-null   float64\n",
            " 11  Social_1       6800 non-null   float64\n",
            " 12  Social_2       6800 non-null   float64\n",
            " 13  Social_3       6800 non-null   float64\n",
            " 14  Healthcare_1   6800 non-null   float64\n",
            " 15  Helthcare_2    6800 non-null   float64\n",
            " 16  Shops_1        6800 non-null   float64\n",
            " 17  Shops_2        6800 non-null   float64\n",
            " 18  Cluster        6800 non-null   int64  \n",
            "dtypes: float64(18), int64(1)\n",
            "memory usage: 1009.5 KB\n"
          ],
          "name": "stdout"
        }
      ]
    },
    {
      "cell_type": "code",
      "metadata": {
        "id": "VXxUeAXuChLn"
      },
      "source": [
        "df_scaled['Cluster'] = scaler.fit_transform(np.array(df_scaled['Cluster']).reshape(-1,1))"
      ],
      "execution_count": 663,
      "outputs": []
    },
    {
      "cell_type": "code",
      "metadata": {
        "colab": {
          "base_uri": "https://localhost:8080/",
          "height": 204
        },
        "id": "tXtWTc0H5nZS",
        "outputId": "f9b61991-2952-4a38-8755-d2b8f2a62da5"
      },
      "source": [
        "df_scaled.head()"
      ],
      "execution_count": 666,
      "outputs": [
        {
          "output_type": "execute_result",
          "data": {
            "text/html": [
              "<div>\n",
              "<style scoped>\n",
              "    .dataframe tbody tr th:only-of-type {\n",
              "        vertical-align: middle;\n",
              "    }\n",
              "\n",
              "    .dataframe tbody tr th {\n",
              "        vertical-align: top;\n",
              "    }\n",
              "\n",
              "    .dataframe thead th {\n",
              "        text-align: right;\n",
              "    }\n",
              "</style>\n",
              "<table border=\"1\" class=\"dataframe\">\n",
              "  <thead>\n",
              "    <tr style=\"text-align: right;\">\n",
              "      <th></th>\n",
              "      <th>DistrictId</th>\n",
              "      <th>Rooms</th>\n",
              "      <th>Square</th>\n",
              "      <th>LifeSquare</th>\n",
              "      <th>KitchenSquare</th>\n",
              "      <th>Floor</th>\n",
              "      <th>HouseFloor</th>\n",
              "      <th>HouseYear</th>\n",
              "      <th>Ecology_1</th>\n",
              "      <th>Ecology_2</th>\n",
              "      <th>Ecology_3</th>\n",
              "      <th>Social_1</th>\n",
              "      <th>Social_2</th>\n",
              "      <th>Social_3</th>\n",
              "      <th>Healthcare_1</th>\n",
              "      <th>Helthcare_2</th>\n",
              "      <th>Shops_1</th>\n",
              "      <th>Shops_2</th>\n",
              "      <th>Cluster</th>\n",
              "    </tr>\n",
              "  </thead>\n",
              "  <tbody>\n",
              "    <tr>\n",
              "      <th>0</th>\n",
              "      <td>0.129187</td>\n",
              "      <td>0.111111</td>\n",
              "      <td>0.161399</td>\n",
              "      <td>0.050184</td>\n",
              "      <td>0.050420</td>\n",
              "      <td>0.073171</td>\n",
              "      <td>0.191489</td>\n",
              "      <td>0.945455</td>\n",
              "      <td>0.144527</td>\n",
              "      <td>1.0</td>\n",
              "      <td>1.0</td>\n",
              "      <td>0.148649</td>\n",
              "      <td>0.154851</td>\n",
              "      <td>0.000000</td>\n",
              "      <td>0.180535</td>\n",
              "      <td>0.000000</td>\n",
              "      <td>0.000000</td>\n",
              "      <td>1.0</td>\n",
              "      <td>0.000000</td>\n",
              "    </tr>\n",
              "    <tr>\n",
              "      <th>1</th>\n",
              "      <td>0.105263</td>\n",
              "      <td>0.000000</td>\n",
              "      <td>0.041525</td>\n",
              "      <td>0.035103</td>\n",
              "      <td>0.033613</td>\n",
              "      <td>0.146341</td>\n",
              "      <td>0.148936</td>\n",
              "      <td>0.509091</td>\n",
              "      <td>0.227141</td>\n",
              "      <td>1.0</td>\n",
              "      <td>1.0</td>\n",
              "      <td>0.405405</td>\n",
              "      <td>0.319270</td>\n",
              "      <td>0.007092</td>\n",
              "      <td>0.239261</td>\n",
              "      <td>0.166667</td>\n",
              "      <td>0.000000</td>\n",
              "      <td>1.0</td>\n",
              "      <td>0.111111</td>\n",
              "    </tr>\n",
              "    <tr>\n",
              "      <th>2</th>\n",
              "      <td>0.004785</td>\n",
              "      <td>0.111111</td>\n",
              "      <td>0.102916</td>\n",
              "      <td>0.073547</td>\n",
              "      <td>0.050420</td>\n",
              "      <td>0.024390</td>\n",
              "      <td>0.340426</td>\n",
              "      <td>0.709091</td>\n",
              "      <td>0.049072</td>\n",
              "      <td>1.0</td>\n",
              "      <td>1.0</td>\n",
              "      <td>0.445946</td>\n",
              "      <td>0.269257</td>\n",
              "      <td>0.000000</td>\n",
              "      <td>0.043578</td>\n",
              "      <td>0.500000</td>\n",
              "      <td>0.043478</td>\n",
              "      <td>1.0</td>\n",
              "      <td>0.222222</td>\n",
              "    </tr>\n",
              "    <tr>\n",
              "      <th>3</th>\n",
              "      <td>0.449761</td>\n",
              "      <td>0.055556</td>\n",
              "      <td>0.080507</td>\n",
              "      <td>0.059255</td>\n",
              "      <td>0.042017</td>\n",
              "      <td>0.365854</td>\n",
              "      <td>0.319149</td>\n",
              "      <td>0.563636</td>\n",
              "      <td>0.541896</td>\n",
              "      <td>1.0</td>\n",
              "      <td>1.0</td>\n",
              "      <td>0.445946</td>\n",
              "      <td>0.449326</td>\n",
              "      <td>0.014184</td>\n",
              "      <td>0.180535</td>\n",
              "      <td>0.000000</td>\n",
              "      <td>0.260870</td>\n",
              "      <td>1.0</td>\n",
              "      <td>0.333333</td>\n",
              "    </tr>\n",
              "    <tr>\n",
              "      <th>4</th>\n",
              "      <td>0.473684</td>\n",
              "      <td>0.111111</td>\n",
              "      <td>0.077706</td>\n",
              "      <td>0.072656</td>\n",
              "      <td>0.016807</td>\n",
              "      <td>0.195122</td>\n",
              "      <td>0.170213</td>\n",
              "      <td>0.563636</td>\n",
              "      <td>0.023644</td>\n",
              "      <td>1.0</td>\n",
              "      <td>1.0</td>\n",
              "      <td>0.472973</td>\n",
              "      <td>0.296484</td>\n",
              "      <td>0.007092</td>\n",
              "      <td>0.424984</td>\n",
              "      <td>0.333333</td>\n",
              "      <td>0.173913</td>\n",
              "      <td>1.0</td>\n",
              "      <td>0.444444</td>\n",
              "    </tr>\n",
              "  </tbody>\n",
              "</table>\n",
              "</div>"
            ],
            "text/plain": [
              "   DistrictId     Rooms    Square  ...   Shops_1  Shops_2   Cluster\n",
              "0    0.129187  0.111111  0.161399  ...  0.000000      1.0  0.000000\n",
              "1    0.105263  0.000000  0.041525  ...  0.000000      1.0  0.111111\n",
              "2    0.004785  0.111111  0.102916  ...  0.043478      1.0  0.222222\n",
              "3    0.449761  0.055556  0.080507  ...  0.260870      1.0  0.333333\n",
              "4    0.473684  0.111111  0.077706  ...  0.173913      1.0  0.444444\n",
              "\n",
              "[5 rows x 19 columns]"
            ]
          },
          "metadata": {
            "tags": []
          },
          "execution_count": 666
        }
      ]
    },
    {
      "cell_type": "code",
      "metadata": {
        "id": "YSEeJtxbDKia"
      },
      "source": [
        "X_train, X_test, y_train, y_test = train_test_split(df_scaled, y, test_size=0.3, random_state=42)"
      ],
      "execution_count": 667,
      "outputs": []
    },
    {
      "cell_type": "code",
      "metadata": {
        "colab": {
          "base_uri": "https://localhost:8080/"
        },
        "id": "feK5I-HlF84w",
        "outputId": "a983c246-931a-43f2-c498-c9eaa3de4cb2"
      },
      "source": [
        "gb_model.fit(X_train, y_train)\n",
        "\n",
        "y_train_preds = gb_model.predict(X_train)\n",
        "y_test_preds = gb_model.predict(X_test)\n",
        "print(r2(y_train, y_train_preds))\n",
        "print(r2(y_test, y_test_preds))"
      ],
      "execution_count": 668,
      "outputs": [
        {
          "output_type": "stream",
          "text": [
            "/usr/local/lib/python3.7/dist-packages/sklearn/ensemble/_gb.py:1454: DataConversionWarning: A column-vector y was passed when a 1d array was expected. Please change the shape of y to (n_samples, ), for example using ravel().\n",
            "  y = column_or_1d(y, warn=True)\n"
          ],
          "name": "stderr"
        },
        {
          "output_type": "stream",
          "text": [
            "0.8022770972537393\n",
            "0.6741145869293024\n"
          ],
          "name": "stdout"
        }
      ]
    },
    {
      "cell_type": "code",
      "metadata": {
        "id": "SMH1vCQ0ZyMg"
      },
      "source": [
        "X_train.reset_index(inplace=True, drop=True)\n",
        "y_train = pd.DataFrame(y_train).reset_index(drop=True)"
      ],
      "execution_count": null,
      "outputs": []
    },
    {
      "cell_type": "code",
      "metadata": {
        "id": "Gl4yQRAIDE-c",
        "colab": {
          "base_uri": "https://localhost:8080/",
          "height": 142
        },
        "outputId": "d1b42155-c088-49f4-9490-2ebf8f015731"
      },
      "source": [
        "feature_importances = pd.DataFrame(zip(X_train.columns, \n",
        "                                       gb_model.feature_importances_), \n",
        "                                   columns=['feature_name', 'importance'])\n",
        "\n",
        "feature_importances.sort_values(by='importance', ascending=False, inplace=True)\n",
        "feature_importances.head(3)"
      ],
      "execution_count": 433,
      "outputs": [
        {
          "output_type": "execute_result",
          "data": {
            "text/html": [
              "<div>\n",
              "<style scoped>\n",
              "    .dataframe tbody tr th:only-of-type {\n",
              "        vertical-align: middle;\n",
              "    }\n",
              "\n",
              "    .dataframe tbody tr th {\n",
              "        vertical-align: top;\n",
              "    }\n",
              "\n",
              "    .dataframe thead th {\n",
              "        text-align: right;\n",
              "    }\n",
              "</style>\n",
              "<table border=\"1\" class=\"dataframe\">\n",
              "  <thead>\n",
              "    <tr style=\"text-align: right;\">\n",
              "      <th></th>\n",
              "      <th>feature_name</th>\n",
              "      <th>importance</th>\n",
              "    </tr>\n",
              "  </thead>\n",
              "  <tbody>\n",
              "    <tr>\n",
              "      <th>2</th>\n",
              "      <td>Square</td>\n",
              "      <td>0.585782</td>\n",
              "    </tr>\n",
              "    <tr>\n",
              "      <th>13</th>\n",
              "      <td>Social_3</td>\n",
              "      <td>0.088097</td>\n",
              "    </tr>\n",
              "    <tr>\n",
              "      <th>12</th>\n",
              "      <td>Social_2</td>\n",
              "      <td>0.064037</td>\n",
              "    </tr>\n",
              "  </tbody>\n",
              "</table>\n",
              "</div>"
            ],
            "text/plain": [
              "   feature_name  importance\n",
              "2        Square    0.585782\n",
              "13     Social_3    0.088097\n",
              "12     Social_2    0.064037"
            ]
          },
          "metadata": {
            "tags": []
          },
          "execution_count": 433
        }
      ]
    }
  ]
}