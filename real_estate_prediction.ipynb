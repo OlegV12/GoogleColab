{
  "nbformat": 4,
  "nbformat_minor": 0,
  "metadata": {
    "kernelspec": {
      "language": "python",
      "display_name": "Python 3",
      "name": "python3"
    },
    "language_info": {
      "pygments_lexer": "ipython3",
      "nbconvert_exporter": "python",
      "version": "3.6.4",
      "file_extension": ".py",
      "codemirror_mode": {
        "name": "ipython",
        "version": 3
      },
      "name": "python",
      "mimetype": "text/x-python"
    },
    "colab": {
      "name": "real-estate-prediction.ipynb",
      "provenance": [],
      "collapsed_sections": [],
      "include_colab_link": true
    }
  },
  "cells": [
    {
      "cell_type": "markdown",
      "metadata": {
        "id": "view-in-github",
        "colab_type": "text"
      },
      "source": [
        "<a href=\"https://colab.research.google.com/github/OlegV12/GoogleColab/blob/RE-Project/real_estate_prediction.ipynb\" target=\"_parent\"><img src=\"https://colab.research.google.com/assets/colab-badge.svg\" alt=\"Open In Colab\"/></a>"
      ]
    },
    {
      "cell_type": "code",
      "metadata": {
        "_uuid": "8f2839f25d086af736a60e9eeb907d3b93b6e0e5",
        "_cell_guid": "b1076dfc-b9ad-4769-8c92-a6c4dae69d19",
        "trusted": true,
        "id": "wqt5BgG1xup8",
        "outputId": "0f6a7e46-a8b6-464a-c215-2308b54d5de8"
      },
      "source": [
        "# This Python 3 environment comes with many helpful analytics libraries installed\n",
        "# It is defined by the kaggle/python Docker image: https://github.com/kaggle/docker-python\n",
        "# For example, here's several helpful packages to load\n",
        "\n",
        "import numpy as np # linear algebra\n",
        "import pandas as pd # data processing, CSV file I/O (e.g. pd.read_csv)\n",
        "\n",
        "# Input data files are available in the read-only \"../input/\" directory\n",
        "# For example, running this (by clicking run or pressing Shift+Enter) will list all files under the input directory\n",
        "\n",
        "import os\n",
        "for dirname, _, filenames in os.walk('/kaggle/input'):\n",
        "    for filename in filenames:\n",
        "        print(os.path.join(dirname, filename))\n",
        "\n",
        "# You can write up to 20GB to the current directory (/kaggle/working/) that gets preserved as output when you create a version using \"Save & Run All\" \n",
        "# You can also write temporary files to /kaggle/temp/, but they won't be saved outside of the current session"
      ],
      "execution_count": null,
      "outputs": [
        {
          "output_type": "stream",
          "text": [
            "/kaggle/input/real-estate-price-prediction-moscow/sample_submission.csv\n",
            "/kaggle/input/real-estate-price-prediction-moscow/train.csv\n",
            "/kaggle/input/real-estate-price-prediction-moscow/test.csv\n"
          ],
          "name": "stdout"
        }
      ]
    },
    {
      "cell_type": "code",
      "metadata": {
        "trusted": true,
        "id": "RN9pom2hxuqC"
      },
      "source": [
        "import pandas as pd\n",
        "import numpy as np\n",
        "import sklearn as skl\n",
        "from sklearn.model_selection import train_test_split, KFold, GridSearchCV, RepeatedKFold\n",
        "from sklearn.preprocessing import StandardScaler, MinMaxScaler, RobustScaler\n",
        "from sklearn.manifold import TSNE\n",
        "import matplotlib.pyplot as plt\n",
        "from sklearn.ensemble import RandomForestRegressor, GradientBoostingRegressor\n",
        "from sklearn.metrics import mean_squared_error as mse, r2_score as r2\n",
        "from sklearn.linear_model import LinearRegression, ElasticNet, ElasticNetCV, Lasso, LassoCV\n",
        "from sklearn.decomposition import PCA\n",
        "from sklearn.svm import SVR\n",
        "from datetime import datetime"
      ],
      "execution_count": null,
      "outputs": []
    },
    {
      "cell_type": "code",
      "metadata": {
        "trusted": true,
        "id": "mYHTinbmxuqC"
      },
      "source": [
        "import warnings\n",
        "warnings.filterwarnings('ignore')"
      ],
      "execution_count": null,
      "outputs": []
    },
    {
      "cell_type": "markdown",
      "metadata": {
        "id": "yKE6YLwwxuqD"
      },
      "source": [
        "# Loading datasets "
      ]
    },
    {
      "cell_type": "code",
      "metadata": {
        "trusted": true,
        "id": "Ml3_o726xuqD"
      },
      "source": [
        "TRAIN_DATASET_PATH = '/kaggle/input/real-estate-price-prediction-moscow/train.csv'\n",
        "TEST_DATASET_PATH = '/kaggle/input/real-estate-price-prediction-moscow/test.csv'"
      ],
      "execution_count": null,
      "outputs": []
    },
    {
      "cell_type": "code",
      "metadata": {
        "trusted": true,
        "id": "Sr8Lb92xxuqD"
      },
      "source": [
        "train_df = pd.read_csv(TRAIN_DATASET_PATH)\n",
        "test_df = pd.read_csv(TEST_DATASET_PATH)"
      ],
      "execution_count": null,
      "outputs": []
    },
    {
      "cell_type": "code",
      "metadata": {
        "trusted": true,
        "id": "hJCPTqMdxuqD",
        "outputId": "161649fb-4d3a-43c3-8a2c-4b818a15fbc1"
      },
      "source": [
        "train_df.shape[1] - 1 == test_df.shape[1]"
      ],
      "execution_count": null,
      "outputs": [
        {
          "output_type": "execute_result",
          "data": {
            "text/plain": [
              "True"
            ]
          },
          "metadata": {
            "tags": []
          },
          "execution_count": 72
        }
      ]
    },
    {
      "cell_type": "markdown",
      "metadata": {
        "id": "bsgJRXSkxuqE"
      },
      "source": [
        "# Target feature distribution and correlations"
      ]
    },
    {
      "cell_type": "code",
      "metadata": {
        "trusted": true,
        "id": "aucpKsy7xuqE",
        "outputId": "b6ae883e-18f3-45a3-e97a-3f11f3fa5613"
      },
      "source": [
        "plt.figure(figsize = (16, 8))\n",
        "\n",
        "train_df['Price'].hist(bins=30)\n",
        "plt.ylabel('Count')\n",
        "plt.xlabel('Price')\n",
        "\n",
        "plt.title('Target distribution')\n",
        "plt.show()"
      ],
      "execution_count": null,
      "outputs": [
        {
          "output_type": "display_data",
          "data": {
            "text/plain": [
              "<Figure size 1152x576 with 1 Axes>"
            ],
            "image/png": "[encoded data removed]"
          },
          "metadata": {
            "tags": [],
            "needs_background": "light"
          }
        }
      ]
    },
    {
      "cell_type": "code",
      "metadata": {
        "trusted": true,
        "id": "7OiaVxV8xuqF",
        "outputId": "8f470944-0cf3-4c48-b115-3030330a3dfd"
      },
      "source": [
        "correlation = train_df.corrwith(train_df['Price']).sort_values(ascending=False)\n",
        "correlation.drop('Price', inplace=True)\n",
        "\n",
        "plt.figure(figsize = (16, 8))\n",
        "plt.bar(correlation.index, correlation)\n",
        "plt.xticks(rotation='90')\n",
        "plt.xlabel('Features', fontsize=15)\n",
        "plt.ylabel('Correlation', fontsize=15)\n",
        "plt.title('Feature correlation', fontsize=15)\n",
        "plt.show()"
      ],
      "execution_count": null,
      "outputs": [
        {
          "output_type": "display_data",
          "data": {
            "text/plain": [
              "<Figure size 1152x576 with 1 Axes>"
            ],
            "image/png": "[encoded data removed]"
          },
          "metadata": {
            "tags": [],
            "needs_background": "light"
          }
        }
      ]
    },
    {
      "cell_type": "markdown",
      "metadata": {
        "id": "IQxZhZvoxuqF"
      },
      "source": [
        "# Data processing and generation of features"
      ]
    },
    {
      "cell_type": "code",
      "metadata": {
        "trusted": true,
        "id": "WghdVm_AxuqF"
      },
      "source": [
        "class DataPreprocessor:\n",
        "    def __init__(self):\n",
        "        self.medians = None\n",
        "        self.kitchen_square_max_value = None\n",
        "        self.kitchen_square_min_value = None\n",
        "        self.life_square_min_value = None\n",
        "        self.max_floor = None\n",
        "        self.districts_healthcare = None\n",
        "\n",
        "\n",
        "        \n",
        "    def fit(self, df):\n",
        "        # Medians and quantiles\n",
        "        self.medians = df.median() # medians\n",
        "        self.kitchen_square_max_value = np.quantile(df['KitchenSquare'], q=0.999) \n",
        "        self.kitchen_square_min_value = np.quantile(df['KitchenSquare'], q=0.001) \n",
        "        self.life_square_min_value = np.quantile(df['LifeSquare'], q=0.03) \n",
        "        self.max_floor = df['Floor'].max()\n",
        "        \n",
        "        \n",
        "        # Compute mean Helthcare_1 value in each district\n",
        "        self.districts_healthcare = df.groupby(['DistrictId'])['Healthcare_1'].agg('mean').to_dict()\n",
        "\n",
        "\n",
        "    def transform(self, df):\n",
        "        # Life Square fillna\n",
        "        df['LifeSquare'].fillna(((df['Square'] - df['KitchenSquare']) - df['Square']*0.2), inplace=True)\n",
        "\n",
        "\n",
        "        # Rooms\n",
        "        # Fillna with medians         \n",
        "        df['Rooms'].fillna(self.medians.Rooms, inplace=True) \n",
        "        \n",
        "        # Compute median room square and fill outliers with LifeSquare/Room_square \n",
        "        condition_rooms = (df['Rooms'] > 6) | (df['Rooms'] == 0)   \n",
        "        room_sq = np.round((self.medians.LifeSquare / self.medians.Rooms, 1))[0]\n",
        "        df.loc[condition_rooms , 'Rooms'] = df.loc[condition_rooms, 'LifeSquare'] / room_sq\n",
        "\n",
        "        # Square\n",
        "        # If LifeSquare > Square: exchange values\n",
        "        df['Square'], df['LifeSquare'] = np.where(df['Square'] < df['LifeSquare'],(df['LifeSquare'],df['Square']), (df['Square'],df['LifeSquare']))\n",
        "\n",
        "\n",
        "        # LifeSquare\n",
        "        # Fill outliers with (Square - KithcenSquare)\n",
        "        ls_condition = (df['LifeSquare'] < self.life_square_min_value)\n",
        "        df.loc[ls_condition, 'LifeSquare'] = df.loc[ls_condition, ['Square']] - df.loc[ls_condition, ['KitchenSquare']]\n",
        "  \n",
        "        \n",
        "        # KitchenSquare\n",
        "        # Fill outliers with (Square - LifeSquare - 10% of Square)\n",
        "        condition_kitchen_square = (df['KitchenSquare'] > self.kitchen_square_max_value) | (df['KitchenSquare'] < self.kitchen_square_min_value)\n",
        "        df.loc[condition_kitchen_square, 'KitchenSquare'] = df.loc[condition_kitchen_square, 'Square'] - df.loc[condition_kitchen_square, 'LifeSquare'] \\\n",
        "        - (df.loc[condition_kitchen_square, 'Square'] * 0.1)\n",
        "\n",
        "\n",
        "        # Ecology and Shops\n",
        "        # Switch to binary\n",
        "        df.replace({'Ecology_2': {'A': 0, 'B': 1}}, inplace=True)\n",
        "        df.replace({'Ecology_3': {'A': 0, 'B': 1}}, inplace=True)\n",
        "        df.replace({'Shops_2': {'A': 0, 'B': 1}}, inplace=True)\n",
        "        \n",
        "        \n",
        "        # HouseFloor\n",
        "        # If HouseFloor < Floor: exchange values\n",
        "        house_floor_condition = df['HouseFloor'] < df['Floor']\n",
        "        df.loc[house_floor_condition, 'HouseFloor'] = df.loc[house_floor_condition, 'Floor']\n",
        "\n",
        "        \n",
        "        # HouseYear\n",
        "        # If HouseYear > current year set median value\n",
        "        current_year = datetime.now().year\n",
        "        condition_year = (df['HouseYear'] > current_year)\n",
        "        df.loc[condition_year, 'HouseYear'] = self.medians.HouseYear\n",
        "        \n",
        "        \n",
        "        # Healthcare\n",
        "        # Fillna with dictrict healthcare value. (If district has no healthcare value fill with medians)      \n",
        "        df.loc[df['Healthcare_1'].isna(), 'Healthcare_1'] = df['DistrictId'].map(self.districts_healthcare)\n",
        "        df['Healthcare_1'].fillna(self.medians.Healthcare_1, inplace=True)       \n",
        "        # Clip on upper quantille\n",
        "        q_max = np.quantile(df['Healthcare_1'], q=0.9)\n",
        "        df['Healthcare_1'].clip(upper=q_max, axis=0, inplace=True)\n",
        "        \n",
        "        \n",
        "        # Drop Id\n",
        "        df.drop(['Id'], axis=1, inplace=True)\n",
        "\n",
        "        \n",
        "        # Fillna just in case\n",
        "        df.fillna(self.medians, inplace=True)\n",
        "        return df\n",
        "\n",
        "\n"
      ],
      "execution_count": null,
      "outputs": []
    },
    {
      "cell_type": "code",
      "metadata": {
        "trusted": true,
        "id": "rEbvkCvXxuqG"
      },
      "source": [
        "class FeatureGenerator:\n",
        "    def __init__(self):\n",
        "        self.districts_median_year = None\n",
        "        self.districts_density = None\n",
        "        self.district_price_per_square = None\n",
        "        self.min_sq = None\n",
        "        self.max_sq = None\n",
        "\n",
        "        \n",
        "    def fit(self, df):   \n",
        "        self.min_sq = np.quantile(df['Square'], q=0.005)\n",
        "        self.max_sq = np.quantile(df['Square'], q=0.995)\n",
        "        \n",
        "        self.districts_median_year = df.groupby(['DistrictId'])['HouseYear'].agg('median').to_dict()  # median house year in each district\n",
        "        self.districts_density = df.groupby(['DistrictId'])['Square'].agg('median').to_dict()  # median square in each district\n",
        "        self.district_price_per_square = df.groupby(['DistrictId'])['Price'].agg('median') \\\n",
        "        / df.groupby(['DistrictId'])['Square'].agg('median')  # median price for square meter in each district\n",
        "        \n",
        "    \n",
        "    def new_features(self, df):\n",
        "        # How old is the district      \n",
        "        df['DistrictYear'] = df['DistrictId'].map(self.districts_median_year)\n",
        "        \n",
        "        self.median_district_year = df['DistrictYear'].median()\n",
        "        df['DistrictYear'].fillna(self.median_district_year, inplace=True)\n",
        "\n",
        "\n",
        "        # Median square of flat in each district\n",
        "        df['DistrictDensity'] = df['DistrictId'].map(self.districts_density)\n",
        "        \n",
        "        self.median_district_density = df['DistrictDensity'].median()\n",
        "        df['DistrictDensity'].fillna(self.median_district_density, inplace=True)\n",
        "\n",
        "\n",
        "        # Median price for square meter in each district\n",
        "        self.district_price_per_square.to_dict()\n",
        "        df['DistrictPrice'] = df['DistrictId'].map(self.district_price_per_square)\n",
        "        \n",
        "        self.median_district_price_per_square = df['DistrictPrice'].median()\n",
        "        df['DistrictPrice'].fillna(self.median_district_price_per_square, inplace=True)\n",
        "\n",
        "\n",
        "        # Floor category\n",
        "        floor_bins = [0, 4, 7, 12, df['Floor'].max()]\n",
        "        df['Floor_cat'] = pd.cut(df['Floor'], bins=floor_bins, labels=False)\n",
        "        df['Floor_cat'].fillna(-1, inplace=True) \n",
        "\n",
        "        \n",
        "        # Scale and merge Social\n",
        "        scaler = RobustScaler()\n",
        "        pca = PCA(n_components=1, random_state=42)\n",
        "        social_scaled = pd.DataFrame(scaler.fit_transform(df[['Social_1', 'Social_2', 'Social_3']]))\n",
        "        df['Social'] = pca.fit_transform(social_scaled)\n",
        "        \n",
        "        \n",
        "        df.drop(['Ecology_2', 'Ecology_3', 'Shops_2', 'Helthcare_2', 'Floor',], axis=1, inplace=True)\n",
        "        \n",
        "        return df\n",
        "    \n",
        "    \n",
        "    def drop_outliers(self, df):\n",
        "        df = df.loc[(df['Square'] > self.min_sq) & (df['Square'] < self.max_sq)]\n",
        "        \n",
        "        \n",
        "        \n",
        "        return df\n"
      ],
      "execution_count": null,
      "outputs": []
    },
    {
      "cell_type": "markdown",
      "metadata": {
        "id": "n7BDZj2jxuqH"
      },
      "source": [
        "Data preprocessing"
      ]
    },
    {
      "cell_type": "code",
      "metadata": {
        "trusted": true,
        "id": "Z2Dxngu4xuqH"
      },
      "source": [
        "preprocessor = DataPreprocessor()\n",
        "preprocessor.fit(train_df)\n",
        "train_df = preprocessor.transform(train_df)\n",
        "test_df = preprocessor.transform(test_df)"
      ],
      "execution_count": null,
      "outputs": []
    },
    {
      "cell_type": "markdown",
      "metadata": {
        "id": "IAkDJ-KrxuqI"
      },
      "source": [
        "Feature generation"
      ]
    },
    {
      "cell_type": "code",
      "metadata": {
        "trusted": true,
        "id": "ysYottgMxuqI"
      },
      "source": [
        "features_gen = FeatureGenerator()\n",
        "features_gen.fit(train_df)\n",
        "train_df = features_gen.new_features(train_df)\n",
        "train_df = features_gen.drop_outliers(train_df)\n",
        "test_df = features_gen.new_features(test_df)"
      ],
      "execution_count": null,
      "outputs": []
    },
    {
      "cell_type": "markdown",
      "metadata": {
        "id": "Ri9DVAdixuqI"
      },
      "source": [
        "Dataset split"
      ]
    },
    {
      "cell_type": "code",
      "metadata": {
        "trusted": true,
        "id": "AicF1jNfxuqI"
      },
      "source": [
        "y = pd.DataFrame(data=train_df['Price'])\n",
        "train_df.drop('Price', axis=1, inplace=True)\n",
        "X_train, X_test, y_train, y_test = train_test_split(train_df, y, test_size=0.15, random_state=100)\n"
      ],
      "execution_count": null,
      "outputs": []
    },
    {
      "cell_type": "markdown",
      "metadata": {
        "id": "Dx_A54lVxuqI"
      },
      "source": [
        "Gradient Boosting Regressor model fit and predict for train dataset"
      ]
    },
    {
      "cell_type": "code",
      "metadata": {
        "trusted": true,
        "id": "t3TggOzPxuqI",
        "outputId": "c2cc38ba-0cb9-4ede-ff38-9fc78addd65e"
      },
      "source": [
        "gb_model = GradientBoostingRegressor(criterion='mse',\n",
        "                                     max_depth=6,\n",
        "                                     min_samples_leaf=50,\n",
        "                                     random_state=42,  \n",
        "                                     n_estimators=2250, \n",
        "                                     max_features='sqrt', \n",
        "                                     loss='huber', \n",
        "                                     learning_rate=0.025)\n",
        "\n",
        "gb_model.fit(X_train, y_train)\n",
        "\n",
        "y_train_preds = gb_model.predict(X_train)\n",
        "y_test_preds = gb_model.predict(X_test)\n",
        "print(r2(y_train, y_train_preds))\n",
        "print(r2(y_test, y_test_preds))"
      ],
      "execution_count": null,
      "outputs": [
        {
          "output_type": "stream",
          "text": [
            "0.8662057902464884\n",
            "0.799683534701096\n"
          ],
          "name": "stdout"
        }
      ]
    },
    {
      "cell_type": "code",
      "metadata": {
        "trusted": true,
        "id": "2sNQlFx_xuqJ",
        "outputId": "e57b8347-8b8b-4a95-9360-d90a5d66ceee"
      },
      "source": [
        "feature_importances = pd.DataFrame(zip(X_train.columns, \n",
        "                                       gb_model.feature_importances_), \n",
        "                                   columns=['feature_name', 'importance'])\n",
        "\n",
        "feature_importances.sort_values(by='importance', ascending=False, inplace=True)\n",
        "feature_importances"
      ],
      "execution_count": null,
      "outputs": [
        {
          "output_type": "execute_result",
          "data": {
            "text/plain": [
              "       feature_name  importance\n",
              "2            Square    0.271156\n",
              "15    DistrictPrice    0.149094\n",
              "1             Rooms    0.129939\n",
              "9          Social_2    0.087281\n",
              "3        LifeSquare    0.076896\n",
              "8          Social_1    0.040757\n",
              "17           Social    0.037199\n",
              "4     KitchenSquare    0.037090\n",
              "6         HouseYear    0.026109\n",
              "0        DistrictId    0.023388\n",
              "10         Social_3    0.019730\n",
              "12          Shops_1    0.018344\n",
              "5        HouseFloor    0.018201\n",
              "7         Ecology_1    0.017574\n",
              "14  DistrictDensity    0.016692\n",
              "11     Healthcare_1    0.013832\n",
              "13     DistrictYear    0.010110\n",
              "16        Floor_cat    0.006609"
            ],
            "text/html": [
              "<div>\n",
              "<style scoped>\n",
              "    .dataframe tbody tr th:only-of-type {\n",
              "        vertical-align: middle;\n",
              "    }\n",
              "\n",
              "    .dataframe tbody tr th {\n",
              "        vertical-align: top;\n",
              "    }\n",
              "\n",
              "    .dataframe thead th {\n",
              "        text-align: right;\n",
              "    }\n",
              "</style>\n",
              "<table border=\"1\" class=\"dataframe\">\n",
              "  <thead>\n",
              "    <tr style=\"text-align: right;\">\n",
              "      <th></th>\n",
              "      <th>feature_name</th>\n",
              "      <th>importance</th>\n",
              "    </tr>\n",
              "  </thead>\n",
              "  <tbody>\n",
              "    <tr>\n",
              "      <th>2</th>\n",
              "      <td>Square</td>\n",
              "      <td>0.271156</td>\n",
              "    </tr>\n",
              "    <tr>\n",
              "      <th>15</th>\n",
              "      <td>DistrictPrice</td>\n",
              "      <td>0.149094</td>\n",
              "    </tr>\n",
              "    <tr>\n",
              "      <th>1</th>\n",
              "      <td>Rooms</td>\n",
              "      <td>0.129939</td>\n",
              "    </tr>\n",
              "    <tr>\n",
              "      <th>9</th>\n",
              "      <td>Social_2</td>\n",
              "      <td>0.087281</td>\n",
              "    </tr>\n",
              "    <tr>\n",
              "      <th>3</th>\n",
              "      <td>LifeSquare</td>\n",
              "      <td>0.076896</td>\n",
              "    </tr>\n",
              "    <tr>\n",
              "      <th>8</th>\n",
              "      <td>Social_1</td>\n",
              "      <td>0.040757</td>\n",
              "    </tr>\n",
              "    <tr>\n",
              "      <th>17</th>\n",
              "      <td>Social</td>\n",
              "      <td>0.037199</td>\n",
              "    </tr>\n",
              "    <tr>\n",
              "      <th>4</th>\n",
              "      <td>KitchenSquare</td>\n",
              "      <td>0.037090</td>\n",
              "    </tr>\n",
              "    <tr>\n",
              "      <th>6</th>\n",
              "      <td>HouseYear</td>\n",
              "      <td>0.026109</td>\n",
              "    </tr>\n",
              "    <tr>\n",
              "      <th>0</th>\n",
              "      <td>DistrictId</td>\n",
              "      <td>0.023388</td>\n",
              "    </tr>\n",
              "    <tr>\n",
              "      <th>10</th>\n",
              "      <td>Social_3</td>\n",
              "      <td>0.019730</td>\n",
              "    </tr>\n",
              "    <tr>\n",
              "      <th>12</th>\n",
              "      <td>Shops_1</td>\n",
              "      <td>0.018344</td>\n",
              "    </tr>\n",
              "    <tr>\n",
              "      <th>5</th>\n",
              "      <td>HouseFloor</td>\n",
              "      <td>0.018201</td>\n",
              "    </tr>\n",
              "    <tr>\n",
              "      <th>7</th>\n",
              "      <td>Ecology_1</td>\n",
              "      <td>0.017574</td>\n",
              "    </tr>\n",
              "    <tr>\n",
              "      <th>14</th>\n",
              "      <td>DistrictDensity</td>\n",
              "      <td>0.016692</td>\n",
              "    </tr>\n",
              "    <tr>\n",
              "      <th>11</th>\n",
              "      <td>Healthcare_1</td>\n",
              "      <td>0.013832</td>\n",
              "    </tr>\n",
              "    <tr>\n",
              "      <th>13</th>\n",
              "      <td>DistrictYear</td>\n",
              "      <td>0.010110</td>\n",
              "    </tr>\n",
              "    <tr>\n",
              "      <th>16</th>\n",
              "      <td>Floor_cat</td>\n",
              "      <td>0.006609</td>\n",
              "    </tr>\n",
              "  </tbody>\n",
              "</table>\n",
              "</div>"
            ]
          },
          "metadata": {
            "tags": []
          },
          "execution_count": 81
        }
      ]
    },
    {
      "cell_type": "code",
      "metadata": {
        "trusted": true,
        "id": "P0SN4x5pxuqJ",
        "outputId": "f9dafda4-ede9-425b-f282-9557d4a11671"
      },
      "source": [
        "plt.figure(figsize = (16, 8))\n",
        "plt.bar(feature_importances['feature_name'], feature_importances['importance'])\n",
        "plt.xticks(rotation='90')\n",
        "plt.xlabel('Features', fontsize=15)\n",
        "plt.ylabel('Importance', fontsize=15)\n",
        "plt.title('Feature importances', fontsize=15)\n",
        "plt.show()"
      ],
      "execution_count": null,
      "outputs": [
        {
          "output_type": "display_data",
          "data": {
            "text/plain": [
              "<Figure size 1152x576 with 1 Axes>"
            ],
            "image/png": "[encoded data removed]"
          },
          "metadata": {
            "tags": [],
            "needs_background": "light"
          }
        }
      ]
    },
    {
      "cell_type": "markdown",
      "metadata": {
        "id": "a4nT3x-RxuqJ"
      },
      "source": [
        "Test data set prediction and submition to kaggle"
      ]
    },
    {
      "cell_type": "code",
      "metadata": {
        "trusted": true,
        "id": "grls3F-PxuqJ",
        "outputId": "8b161e6d-eed3-4519-8e5e-cd08e931437a"
      },
      "source": [
        "test_df.head(2)"
      ],
      "execution_count": null,
      "outputs": [
        {
          "output_type": "execute_result",
          "data": {
            "text/plain": [
              "   DistrictId  Rooms     Square  LifeSquare  KitchenSquare  HouseFloor  \\\n",
              "0          44    1.0  36.847630   19.094182            5.0         9.0   \n",
              "1          62    1.0  42.568133   42.493907           10.0        17.0   \n",
              "\n",
              "   HouseYear  Ecology_1  Social_1  Social_2  Social_3  Healthcare_1  Shops_1  \\\n",
              "0     1970.0   0.036122        24      4378         0        1036.0        1   \n",
              "1     2017.0   0.072158         2       629         1        2300.0        0   \n",
              "\n",
              "   DistrictYear  DistrictDensity  DistrictPrice  Floor_cat    Social  \n",
              "0        1977.0        46.971646    4431.704675          1 -1.654285  \n",
              "1        1977.0        56.667328    2859.977368          1 -1.462656  "
            ],
            "text/html": [
              "<div>\n",
              "<style scoped>\n",
              "    .dataframe tbody tr th:only-of-type {\n",
              "        vertical-align: middle;\n",
              "    }\n",
              "\n",
              "    .dataframe tbody tr th {\n",
              "        vertical-align: top;\n",
              "    }\n",
              "\n",
              "    .dataframe thead th {\n",
              "        text-align: right;\n",
              "    }\n",
              "</style>\n",
              "<table border=\"1\" class=\"dataframe\">\n",
              "  <thead>\n",
              "    <tr style=\"text-align: right;\">\n",
              "      <th></th>\n",
              "      <th>DistrictId</th>\n",
              "      <th>Rooms</th>\n",
              "      <th>Square</th>\n",
              "      <th>LifeSquare</th>\n",
              "      <th>KitchenSquare</th>\n",
              "      <th>HouseFloor</th>\n",
              "      <th>HouseYear</th>\n",
              "      <th>Ecology_1</th>\n",
              "      <th>Social_1</th>\n",
              "      <th>Social_2</th>\n",
              "      <th>Social_3</th>\n",
              "      <th>Healthcare_1</th>\n",
              "      <th>Shops_1</th>\n",
              "      <th>DistrictYear</th>\n",
              "      <th>DistrictDensity</th>\n",
              "      <th>DistrictPrice</th>\n",
              "      <th>Floor_cat</th>\n",
              "      <th>Social</th>\n",
              "    </tr>\n",
              "  </thead>\n",
              "  <tbody>\n",
              "    <tr>\n",
              "      <th>0</th>\n",
              "      <td>44</td>\n",
              "      <td>1.0</td>\n",
              "      <td>36.847630</td>\n",
              "      <td>19.094182</td>\n",
              "      <td>5.0</td>\n",
              "      <td>9.0</td>\n",
              "      <td>1970.0</td>\n",
              "      <td>0.036122</td>\n",
              "      <td>24</td>\n",
              "      <td>4378</td>\n",
              "      <td>0</td>\n",
              "      <td>1036.0</td>\n",
              "      <td>1</td>\n",
              "      <td>1977.0</td>\n",
              "      <td>46.971646</td>\n",
              "      <td>4431.704675</td>\n",
              "      <td>1</td>\n",
              "      <td>-1.654285</td>\n",
              "    </tr>\n",
              "    <tr>\n",
              "      <th>1</th>\n",
              "      <td>62</td>\n",
              "      <td>1.0</td>\n",
              "      <td>42.568133</td>\n",
              "      <td>42.493907</td>\n",
              "      <td>10.0</td>\n",
              "      <td>17.0</td>\n",
              "      <td>2017.0</td>\n",
              "      <td>0.072158</td>\n",
              "      <td>2</td>\n",
              "      <td>629</td>\n",
              "      <td>1</td>\n",
              "      <td>2300.0</td>\n",
              "      <td>0</td>\n",
              "      <td>1977.0</td>\n",
              "      <td>56.667328</td>\n",
              "      <td>2859.977368</td>\n",
              "      <td>1</td>\n",
              "      <td>-1.462656</td>\n",
              "    </tr>\n",
              "  </tbody>\n",
              "</table>\n",
              "</div>"
            ]
          },
          "metadata": {
            "tags": []
          },
          "execution_count": 83
        }
      ]
    },
    {
      "cell_type": "code",
      "metadata": {
        "trusted": true,
        "id": "Kd-5g1z_xuqJ",
        "outputId": "0e0f1757-9a1b-4caf-d131-5a8c891c5193"
      },
      "source": [
        "X_train.head(2)"
      ],
      "execution_count": null,
      "outputs": [
        {
          "output_type": "execute_result",
          "data": {
            "text/plain": [
              "      DistrictId  Rooms     Square  LifeSquare  KitchenSquare  HouseFloor  \\\n",
              "8785         134    2.0  39.697957   25.214448            7.0         9.0   \n",
              "9074           8    1.0  39.195153   22.158768            9.0        12.0   \n",
              "\n",
              "      HouseYear  Ecology_1  Social_1  Social_2  Social_3  Healthcare_1  \\\n",
              "8785     1969.0   0.015017        17      3079        59        2300.0   \n",
              "9074     1968.0   0.437885        23      5735         3        1084.0   \n",
              "\n",
              "      Shops_1  DistrictYear  DistrictDensity  DistrictPrice  Floor_cat  \\\n",
              "8785        8        1977.0        42.382091    6161.829301          1   \n",
              "9074        5        1983.0        47.651571    3975.516530          2   \n",
              "\n",
              "         Social  \n",
              "8785  10.186171  \n",
              "9074  -1.007192  "
            ],
            "text/html": [
              "<div>\n",
              "<style scoped>\n",
              "    .dataframe tbody tr th:only-of-type {\n",
              "        vertical-align: middle;\n",
              "    }\n",
              "\n",
              "    .dataframe tbody tr th {\n",
              "        vertical-align: top;\n",
              "    }\n",
              "\n",
              "    .dataframe thead th {\n",
              "        text-align: right;\n",
              "    }\n",
              "</style>\n",
              "<table border=\"1\" class=\"dataframe\">\n",
              "  <thead>\n",
              "    <tr style=\"text-align: right;\">\n",
              "      <th></th>\n",
              "      <th>DistrictId</th>\n",
              "      <th>Rooms</th>\n",
              "      <th>Square</th>\n",
              "      <th>LifeSquare</th>\n",
              "      <th>KitchenSquare</th>\n",
              "      <th>HouseFloor</th>\n",
              "      <th>HouseYear</th>\n",
              "      <th>Ecology_1</th>\n",
              "      <th>Social_1</th>\n",
              "      <th>Social_2</th>\n",
              "      <th>Social_3</th>\n",
              "      <th>Healthcare_1</th>\n",
              "      <th>Shops_1</th>\n",
              "      <th>DistrictYear</th>\n",
              "      <th>DistrictDensity</th>\n",
              "      <th>DistrictPrice</th>\n",
              "      <th>Floor_cat</th>\n",
              "      <th>Social</th>\n",
              "    </tr>\n",
              "  </thead>\n",
              "  <tbody>\n",
              "    <tr>\n",
              "      <th>8785</th>\n",
              "      <td>134</td>\n",
              "      <td>2.0</td>\n",
              "      <td>39.697957</td>\n",
              "      <td>25.214448</td>\n",
              "      <td>7.0</td>\n",
              "      <td>9.0</td>\n",
              "      <td>1969.0</td>\n",
              "      <td>0.015017</td>\n",
              "      <td>17</td>\n",
              "      <td>3079</td>\n",
              "      <td>59</td>\n",
              "      <td>2300.0</td>\n",
              "      <td>8</td>\n",
              "      <td>1977.0</td>\n",
              "      <td>42.382091</td>\n",
              "      <td>6161.829301</td>\n",
              "      <td>1</td>\n",
              "      <td>10.186171</td>\n",
              "    </tr>\n",
              "    <tr>\n",
              "      <th>9074</th>\n",
              "      <td>8</td>\n",
              "      <td>1.0</td>\n",
              "      <td>39.195153</td>\n",
              "      <td>22.158768</td>\n",
              "      <td>9.0</td>\n",
              "      <td>12.0</td>\n",
              "      <td>1968.0</td>\n",
              "      <td>0.437885</td>\n",
              "      <td>23</td>\n",
              "      <td>5735</td>\n",
              "      <td>3</td>\n",
              "      <td>1084.0</td>\n",
              "      <td>5</td>\n",
              "      <td>1983.0</td>\n",
              "      <td>47.651571</td>\n",
              "      <td>3975.516530</td>\n",
              "      <td>2</td>\n",
              "      <td>-1.007192</td>\n",
              "    </tr>\n",
              "  </tbody>\n",
              "</table>\n",
              "</div>"
            ]
          },
          "metadata": {
            "tags": []
          },
          "execution_count": 84
        }
      ]
    },
    {
      "cell_type": "code",
      "metadata": {
        "trusted": true,
        "id": "CXXpJNjFxuqK",
        "outputId": "59064504-9719-4154-dd67-a3cdee40d65f"
      },
      "source": [
        "submit = pd.read_csv('/kaggle/input/real-estate-price-prediction-moscow/sample_submission.csv')\n",
        "submit.head()"
      ],
      "execution_count": null,
      "outputs": [
        {
          "output_type": "execute_result",
          "data": {
            "text/plain": [
              "     Id     Price\n",
              "0  4567  200000.0\n",
              "1  5925  200000.0\n",
              "2   960  200000.0\n",
              "3  3848  200000.0\n",
              "4   746  200000.0"
            ],
            "text/html": [
              "<div>\n",
              "<style scoped>\n",
              "    .dataframe tbody tr th:only-of-type {\n",
              "        vertical-align: middle;\n",
              "    }\n",
              "\n",
              "    .dataframe tbody tr th {\n",
              "        vertical-align: top;\n",
              "    }\n",
              "\n",
              "    .dataframe thead th {\n",
              "        text-align: right;\n",
              "    }\n",
              "</style>\n",
              "<table border=\"1\" class=\"dataframe\">\n",
              "  <thead>\n",
              "    <tr style=\"text-align: right;\">\n",
              "      <th></th>\n",
              "      <th>Id</th>\n",
              "      <th>Price</th>\n",
              "    </tr>\n",
              "  </thead>\n",
              "  <tbody>\n",
              "    <tr>\n",
              "      <th>0</th>\n",
              "      <td>4567</td>\n",
              "      <td>200000.0</td>\n",
              "    </tr>\n",
              "    <tr>\n",
              "      <th>1</th>\n",
              "      <td>5925</td>\n",
              "      <td>200000.0</td>\n",
              "    </tr>\n",
              "    <tr>\n",
              "      <th>2</th>\n",
              "      <td>960</td>\n",
              "      <td>200000.0</td>\n",
              "    </tr>\n",
              "    <tr>\n",
              "      <th>3</th>\n",
              "      <td>3848</td>\n",
              "      <td>200000.0</td>\n",
              "    </tr>\n",
              "    <tr>\n",
              "      <th>4</th>\n",
              "      <td>746</td>\n",
              "      <td>200000.0</td>\n",
              "    </tr>\n",
              "  </tbody>\n",
              "</table>\n",
              "</div>"
            ]
          },
          "metadata": {
            "tags": []
          },
          "execution_count": 85
        }
      ]
    },
    {
      "cell_type": "code",
      "metadata": {
        "trusted": true,
        "id": "BWeL3ofvxuqK",
        "outputId": "dd091851-c942-4ac9-8bc0-9b147a6f7e01"
      },
      "source": [
        "predictions = gb_model.predict(test_df)\n",
        "predictions"
      ],
      "execution_count": null,
      "outputs": [
        {
          "output_type": "execute_result",
          "data": {
            "text/plain": [
              "array([162145.97980473, 123212.84546476, 141593.25287169, ...,\n",
              "       149398.64394535, 188651.04871494, 284728.51874349])"
            ]
          },
          "metadata": {
            "tags": []
          },
          "execution_count": 86
        }
      ]
    },
    {
      "cell_type": "code",
      "metadata": {
        "trusted": true,
        "id": "Lm6LnJhLxuqK",
        "outputId": "284f2a71-08e2-48ab-cc5b-c02726dc0252"
      },
      "source": [
        "submit['Price'] = predictions\n",
        "submit.head()"
      ],
      "execution_count": null,
      "outputs": [
        {
          "output_type": "execute_result",
          "data": {
            "text/plain": [
              "     Id          Price\n",
              "0  4567  162145.979805\n",
              "1  5925  123212.845465\n",
              "2   960  141593.252872\n",
              "3  3848   86794.666469\n",
              "4   746  186038.628001"
            ],
            "text/html": [
              "<div>\n",
              "<style scoped>\n",
              "    .dataframe tbody tr th:only-of-type {\n",
              "        vertical-align: middle;\n",
              "    }\n",
              "\n",
              "    .dataframe tbody tr th {\n",
              "        vertical-align: top;\n",
              "    }\n",
              "\n",
              "    .dataframe thead th {\n",
              "        text-align: right;\n",
              "    }\n",
              "</style>\n",
              "<table border=\"1\" class=\"dataframe\">\n",
              "  <thead>\n",
              "    <tr style=\"text-align: right;\">\n",
              "      <th></th>\n",
              "      <th>Id</th>\n",
              "      <th>Price</th>\n",
              "    </tr>\n",
              "  </thead>\n",
              "  <tbody>\n",
              "    <tr>\n",
              "      <th>0</th>\n",
              "      <td>4567</td>\n",
              "      <td>162145.979805</td>\n",
              "    </tr>\n",
              "    <tr>\n",
              "      <th>1</th>\n",
              "      <td>5925</td>\n",
              "      <td>123212.845465</td>\n",
              "    </tr>\n",
              "    <tr>\n",
              "      <th>2</th>\n",
              "      <td>960</td>\n",
              "      <td>141593.252872</td>\n",
              "    </tr>\n",
              "    <tr>\n",
              "      <th>3</th>\n",
              "      <td>3848</td>\n",
              "      <td>86794.666469</td>\n",
              "    </tr>\n",
              "    <tr>\n",
              "      <th>4</th>\n",
              "      <td>746</td>\n",
              "      <td>186038.628001</td>\n",
              "    </tr>\n",
              "  </tbody>\n",
              "</table>\n",
              "</div>"
            ]
          },
          "metadata": {
            "tags": []
          },
          "execution_count": 87
        }
      ]
    },
    {
      "cell_type": "code",
      "metadata": {
        "trusted": true,
        "id": "lfFc6fE0xuqK",
        "outputId": "eafc8862-afce-483d-b95d-e5ad034c1161"
      },
      "source": [
        "submit.shape"
      ],
      "execution_count": null,
      "outputs": [
        {
          "output_type": "execute_result",
          "data": {
            "text/plain": [
              "(5000, 2)"
            ]
          },
          "metadata": {
            "tags": []
          },
          "execution_count": 88
        }
      ]
    },
    {
      "cell_type": "code",
      "metadata": {
        "trusted": true,
        "id": "JtJJF2AWxuqK"
      },
      "source": [
        "submit.to_csv('gb_submit.csv', index=False)"
      ],
      "execution_count": null,
      "outputs": []
    }
  ]
}